{
 "cells": [
  {
   "cell_type": "code",
   "execution_count": 3,
   "metadata": {},
   "outputs": [],
   "source": [
    "import numpy as np\n",
    "import pandas as pd\n",
    "import matplotlib.pyplot as plt\n",
    "import seaborn as sns\n",
    "from sklearn.model_selection import train_test_split, TimeSeriesSplit\n",
    "from sklearn.linear_model import LinearRegression"
   ]
  },
  {
   "cell_type": "code",
   "execution_count": 1,
   "metadata": {},
   "outputs": [
    {
     "name": "stdout",
     "output_type": "stream",
     "text": [
      "Train indices: [ 0  1  2  3  4  5  6  7  8  9 10 11 12 13 14 15 16 17 18 19] Test indices: [20 21 22 23 24 25 26 27 28 29 30 31 32 33 34 35]\n",
      "Train data: [ 1  2  3  4  5  6  7  8  9 10 11 12 13 14 15 16 17 18 19 20]\n",
      "Test data: [21 22 23 24 25 26 27 28 29 30 31 32 33 34 35 36]\n",
      "\n",
      "Train indices: [ 0  1  2  3  4  5  6  7  8  9 10 11 12 13 14 15 16 17 18 19 20 21 22 23\n",
      " 24 25 26 27 28 29 30 31 32 33 34 35] Test indices: [36 37 38 39 40 41 42 43 44 45 46 47 48 49 50 51]\n",
      "Train data: [ 1  2  3  4  5  6  7  8  9 10 11 12 13 14 15 16 17 18 19 20 21 22 23 24\n",
      " 25 26 27 28 29 30 31 32 33 34 35 36]\n",
      "Test data: [37 38 39 40 41 42 43 44 45 46 47 48 49 50 51 52]\n",
      "\n",
      "Train indices: [ 0  1  2  3  4  5  6  7  8  9 10 11 12 13 14 15 16 17 18 19 20 21 22 23\n",
      " 24 25 26 27 28 29 30 31 32 33 34 35 36 37 38 39 40 41 42 43 44 45 46 47\n",
      " 48 49 50 51] Test indices: [52 53 54 55 56 57 58 59 60 61 62 63 64 65 66 67]\n",
      "Train data: [ 1  2  3  4  5  6  7  8  9 10 11 12 13 14 15 16 17 18 19 20 21 22 23 24\n",
      " 25 26 27 28 29 30 31 32 33 34 35 36 37 38 39 40 41 42 43 44 45 46 47 48\n",
      " 49 50 51 52]\n",
      "Test data: [53 54 55 56 57 58 59 60 61 62 63 64 65 66 67 68]\n",
      "\n",
      "Train indices: [ 0  1  2  3  4  5  6  7  8  9 10 11 12 13 14 15 16 17 18 19 20 21 22 23\n",
      " 24 25 26 27 28 29 30 31 32 33 34 35 36 37 38 39 40 41 42 43 44 45 46 47\n",
      " 48 49 50 51 52 53 54 55 56 57 58 59 60 61 62 63 64 65 66 67] Test indices: [68 69 70 71 72 73 74 75 76 77 78 79 80 81 82 83]\n",
      "Train data: [ 1  2  3  4  5  6  7  8  9 10 11 12 13 14 15 16 17 18 19 20 21 22 23 24\n",
      " 25 26 27 28 29 30 31 32 33 34 35 36 37 38 39 40 41 42 43 44 45 46 47 48\n",
      " 49 50 51 52 53 54 55 56 57 58 59 60 61 62 63 64 65 66 67 68]\n",
      "Test data: [69 70 71 72 73 74 75 76 77 78 79 80 81 82 83 84]\n",
      "\n",
      "Train indices: [ 0  1  2  3  4  5  6  7  8  9 10 11 12 13 14 15 16 17 18 19 20 21 22 23\n",
      " 24 25 26 27 28 29 30 31 32 33 34 35 36 37 38 39 40 41 42 43 44 45 46 47\n",
      " 48 49 50 51 52 53 54 55 56 57 58 59 60 61 62 63 64 65 66 67 68 69 70 71\n",
      " 72 73 74 75 76 77 78 79 80 81 82 83] Test indices: [84 85 86 87 88 89 90 91 92 93 94 95 96 97 98 99]\n",
      "Train data: [ 1  2  3  4  5  6  7  8  9 10 11 12 13 14 15 16 17 18 19 20 21 22 23 24\n",
      " 25 26 27 28 29 30 31 32 33 34 35 36 37 38 39 40 41 42 43 44 45 46 47 48\n",
      " 49 50 51 52 53 54 55 56 57 58 59 60 61 62 63 64 65 66 67 68 69 70 71 72\n",
      " 73 74 75 76 77 78 79 80 81 82 83 84]\n",
      "Test data: [ 85  86  87  88  89  90  91  92  93  94  95  96  97  98  99 100]\n",
      "\n"
     ]
    }
   ],
   "source": [
    "from sklearn.model_selection import TimeSeriesSplit\n",
    "import numpy as np\n",
    "\n",
    "# Create some example time series data\n",
    "time_series_data = np.arange(1, 101)\n",
    "\n",
    "# Initialize TimeSeriesSplit with 5 splits\n",
    "tscv = TimeSeriesSplit(n_splits=5)\n",
    "\n",
    "# Iterate through the splits\n",
    "for train_index, test_index in tscv.split(time_series_data):\n",
    "    print(\"Train indices:\", train_index, \"Test indices:\", test_index)\n",
    "    print(\"Train data:\", time_series_data[train_index])\n",
    "    print(\"Test data:\", time_series_data[test_index])\n",
    "    print()"
   ]
  },
  {
   "cell_type": "code",
   "execution_count": 2,
   "metadata": {},
   "outputs": [],
   "source": [
    "df = pd.read_csv('./dataset/dataset/train.csv')"
   ]
  },
  {
   "cell_type": "code",
   "execution_count": 23,
   "metadata": {},
   "outputs": [],
   "source": [
    "target = \"TARGET_LifeExpectancy\""
   ]
  },
  {
   "cell_type": "markdown",
   "metadata": {},
   "source": [
    "## Time series split"
   ]
  },
  {
   "cell_type": "code",
   "execution_count": 24,
   "metadata": {},
   "outputs": [
    {
     "name": "stdout",
     "output_type": "stream",
     "text": [
      "1161\n",
      "516\n",
      "394\n"
     ]
    }
   ],
   "source": [
    "df_train = df.loc[df['Year'] < 2011]\n",
    "df_val = df.loc[(df['Year'] < 2015) &( df['Year'] >= 2011)]\n",
    "df_test = df.loc[df['Year'] >= 2015]\n",
    "\n",
    "print(len(df_train))\n",
    "print(len(df_val))\n",
    "print(len(df_test))\n",
    "\n",
    "X_train, y_train = df_train.drop(columns=[target]).to_numpy(), df_train[target].to_numpy()\n",
    "X_val, y_val = df_val.drop(columns=[target]).to_numpy(), df_val[target].to_numpy()\n",
    "X_test, y_test = df_test.drop(columns=[target]).to_numpy(), df_test[target].to_numpy()"
   ]
  },
  {
   "cell_type": "code",
   "execution_count": 25,
   "metadata": {},
   "outputs": [],
   "source": [
    "X_train, y_train = df_train.drop(columns=[target]).to_numpy(), df_train[target].to_numpy()\n",
    "X_val, y_val = df_val.drop(columns=[target]).to_numpy(), df_val[target].to_numpy()\n",
    "X_test, y_test = df_test.drop(columns=[target]).to_numpy(), df_test[target].to_numpy()"
   ]
  },
  {
   "cell_type": "code",
   "execution_count": 30,
   "metadata": {},
   "outputs": [],
   "source": [
    "time_series_model = LinearRegression()\n",
    "time_series_model.fit(X_train, y_train)\n",
    "y_pred = time_series_model.predict(X_val)"
   ]
  },
  {
   "cell_type": "code",
   "execution_count": 31,
   "metadata": {},
   "outputs": [
    {
     "name": "stdout",
     "output_type": "stream",
     "text": [
      "R2 Score: 0.7303383864022754\n",
      "MAE Score: 3.5405177305788422\n",
      "MSE Score: 20.830897412726493\n"
     ]
    }
   ],
   "source": [
    "from sklearn.metrics import r2_score, mean_absolute_error, mean_squared_error\n",
    "# Calculate r2 score\n",
    "r2_s = r2_score(y_val, y_pred=y_pred)\n",
    "mae = mean_absolute_error(y_val, y_pred)\n",
    "mse = mean_squared_error(y_val, y_pred)\n",
    "\n",
    "print(\"R2 Score: \" + str(r2_s))\n",
    "print(\"MAE Score: \" + str(mae))\n",
    "print(\"MSE Score: \" + str(mse))"
   ]
  },
  {
   "cell_type": "code",
   "execution_count": null,
   "metadata": {},
   "outputs": [],
   "source": []
  }
 ],
 "metadata": {
  "kernelspec": {
   "display_name": "Python 3",
   "language": "python",
   "name": "python3"
  },
  "language_info": {
   "codemirror_mode": {
    "name": "ipython",
    "version": 3
   },
   "file_extension": ".py",
   "mimetype": "text/x-python",
   "name": "python",
   "nbconvert_exporter": "python",
   "pygments_lexer": "ipython3",
   "version": "3.10.6"
  }
 },
 "nbformat": 4,
 "nbformat_minor": 2
}
