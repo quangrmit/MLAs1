{
 "cells": [
  {
   "cell_type": "code",
   "execution_count": 116,
   "metadata": {},
   "outputs": [],
   "source": [
    "import numpy as np\n",
    "import pandas as pd\n",
    "import matplotlib.pyplot as plt\n",
    "import seaborn as sns\n",
    "from sklearn.model_selection import train_test_split, TimeSeriesSplit\n",
    "from sklearn.linear_model import LinearRegression, SGDRegressor, Ridge, Lasso\n",
    "from sklearn.preprocessing import PolynomialFeatures\n",
    "from warnings import simplefilter"
   ]
  },
  {
   "cell_type": "code",
   "execution_count": 117,
   "metadata": {},
   "outputs": [],
   "source": [
    "df = pd.read_csv('./dataset/dataset/train.csv')\n",
    "target = \"TARGET_LifeExpectancy\""
   ]
  },
  {
   "cell_type": "code",
   "execution_count": 129,
   "metadata": {},
   "outputs": [],
   "source": [
    "df_X = df.drop(columns=[target])\n",
    "df_y = df[target]\n",
    "X_train, X_test, y_train, y_test = train_test_split(df_X, df_y, test_size=0.4, random_state=42)\n",
    "X_val, X_test , y_val, y_test = train_test_split(X_test, y_test, test_size=0.5, random_state=42)\n"
   ]
  },
  {
   "cell_type": "code",
   "execution_count": 130,
   "metadata": {},
   "outputs": [
    {
     "data": {
      "text/plain": [
       "Index(['ID', 'Country', 'Year', 'Status', 'AdultMortality',\n",
       "       'AdultMortality-Male', 'AdultMortality-Female', 'SLS', 'Alcohol',\n",
       "       'PercentageExpenditure', 'Measles', 'BMI', 'Under5LS', 'Polio',\n",
       "       'TotalExpenditure', 'Diphtheria', 'HIV-AIDS', 'GDP', 'Population',\n",
       "       'Thinness1-19years', 'Thinness5-9years', 'IncomeCompositionOfResources',\n",
       "       'Schooling'],\n",
       "      dtype='object')"
      ]
     },
     "execution_count": 130,
     "metadata": {},
     "output_type": "execute_result"
    }
   ],
   "source": [
    "X_train.columns"
   ]
  },
  {
   "cell_type": "code",
   "execution_count": 131,
   "metadata": {},
   "outputs": [],
   "source": [
    "polynomial_features = [\"PercentageExpenditure\", \"GDP\", \"HIV-AIDS\"]\n",
    "numerical_cols = ['AdultMortality', 'AdultMortality-Female', 'AdultMortality-Male', 'SLS', 'Alcohol', 'PercentageExpenditure', 'Measles', 'BMI', 'Under5LS', 'Polio', 'TotalExpenditure', 'Diphtheria', 'HIV-AIDS', 'GDP', 'Population', 'Thinness1-19years','IncomeCompositionOfResources' ,'Thinness5-9years', 'Schooling' ]\n",
    "# polynomial_features = ['ID', 'Country', 'Year', 'Status', 'AdultMortality',\n",
    "#        'AdultMortality-Male', 'AdultMortality-Female', 'SLS', 'Alcohol',\n",
    "#        'PercentageExpenditure', 'Measles', 'BMI', 'Under5LS', 'Polio',\n",
    "#        'TotalExpenditure', 'Diphtheria', 'HIV-AIDS', 'GDP', 'Population',\n",
    "#        'Thinness1-19years', 'Thinness5-9years', 'IncomeCompositionOfResources',\n",
    "#        'Schooling']\n",
    "# polynomial_features = numerical_cols\n",
    "poly = PolynomialFeatures(2)\n",
    "poly.fit(X_train[polynomial_features])\n",
    "transformed = list(poly.get_feature_names_out())"
   ]
  },
  {
   "cell_type": "code",
   "execution_count": 132,
   "metadata": {},
   "outputs": [],
   "source": [
    "\n",
    "X_train[transformed] = poly.transform(X_train[polynomial_features])\n",
    "model = LinearRegression()\n",
    "model.fit(X_train, y_train)\n",
    "\n",
    "transformed_X_val = X_val.copy()\n",
    "transformed_X_val[transformed] = poly.transform(X_val[polynomial_features])\n",
    "y_pred = model.predict(transformed_X_val)\n",
    "\n"
   ]
  },
  {
   "cell_type": "code",
   "execution_count": 133,
   "metadata": {},
   "outputs": [],
   "source": [
    "# evaluate(y_pred=y_pred, y_true=y_test)"
   ]
  },
  {
   "cell_type": "code",
   "execution_count": 134,
   "metadata": {},
   "outputs": [
    {
     "name": "stdout",
     "output_type": "stream",
     "text": [
      "R2 Score: 0.7614095008994091\n",
      "MAE Score: 3.53782587140024\n",
      "MSE Score: 21.501563743046972\n"
     ]
    }
   ],
   "source": [
    "from sklearn.metrics import r2_score, mean_absolute_error, mean_squared_error\n",
    "# Calculate r2 score\n",
    "r2_s = r2_score(y_val, y_pred=y_pred)\n",
    "mae = mean_absolute_error(y_val, y_pred)\n",
    "mse = mean_squared_error(y_val, y_pred)\n",
    "\n",
    "print(\"R2 Score: \" + str(r2_s))\n",
    "print(\"MAE Score: \" + str(mae))\n",
    "print(\"MSE Score: \" + str(mse))"
   ]
  },
  {
   "cell_type": "code",
   "execution_count": 125,
   "metadata": {},
   "outputs": [
    {
     "name": "stderr",
     "output_type": "stream",
     "text": [
      "c:\\Users\\Lenovo\\AppData\\Local\\Programs\\Python\\Python310\\lib\\site-packages\\sklearn\\linear_model\\_ridge.py:200: LinAlgWarning: Ill-conditioned matrix (rcond=1.43226e-21): result may not be accurate.\n",
      "  return linalg.solve(A, Xy, assume_a=\"pos\", overwrite_a=True).T\n"
     ]
    }
   ],
   "source": [
    "model = Ridge(alpha=3)\n",
    "model.fit(X_train, y_train)\n",
    "transformed_X_val = X_val.copy()\n",
    "transformed_X_val[transformed] = poly.transform(X_val[polynomial_features])\n",
    "y_pred = model.predict(transformed_X_val)\n"
   ]
  },
  {
   "cell_type": "code",
   "execution_count": 126,
   "metadata": {},
   "outputs": [
    {
     "name": "stdout",
     "output_type": "stream",
     "text": [
      "R2 Score: 0.7354041873271375\n",
      "MAE Score: 3.552508125580557\n",
      "MSE Score: 21.62818468907187\n"
     ]
    }
   ],
   "source": [
    "from sklearn.metrics import r2_score, mean_absolute_error, mean_squared_error\n",
    "# Calculate r2 score\n",
    "def evaluate(y_true, y_pred):\n",
    "    r2_s = r2_score(y_true, y_pred=y_pred)\n",
    "    mae = mean_absolute_error(y_true, y_pred)\n",
    "    mse = mean_squared_error(y_true, y_pred)\n",
    "\n",
    "    print(\"R2 Score: \" + str(r2_s))\n",
    "    print(\"MAE Score: \" + str(mae))\n",
    "    print(\"MSE Score: \" + str(mse))\n",
    "evaluate(y_val, y_pred)"
   ]
  },
  {
   "cell_type": "code",
   "execution_count": 127,
   "metadata": {},
   "outputs": [
    {
     "name": "stdout",
     "output_type": "stream",
     "text": [
      "R2 Score: 0.7357268777237316\n",
      "MAE Score: 3.548998980655246\n",
      "MSE Score: 21.601807826095758\n",
      "\n",
      "\n",
      "R2 Score: 0.7355660898324092\n",
      "MAE Score: 3.550529627388423\n",
      "MSE Score: 21.614950703052713\n",
      "\n",
      "\n",
      "R2 Score: 0.7354041873271375\n",
      "MAE Score: 3.552508125580557\n",
      "MSE Score: 21.62818468907187\n",
      "\n",
      "\n",
      "R2 Score: 0.7352429274669873\n",
      "MAE Score: 3.554486982231709\n",
      "MSE Score: 21.641366144980154\n",
      "\n",
      "\n",
      "R2 Score: 0.7350835058014563\n",
      "MAE Score: 3.5563228690524165\n",
      "MSE Score: 21.654397346006018\n",
      "\n",
      "\n",
      "R2 Score: 0.7349267198924585\n",
      "MAE Score: 3.558076773724018\n",
      "MSE Score: 21.667213099067993\n",
      "\n",
      "\n",
      "R2 Score: 0.7347730840827857\n",
      "MAE Score: 3.5597872285158374\n",
      "MSE Score: 21.679771361547253\n",
      "\n",
      "\n",
      "R2 Score: 0.7346229107249316\n",
      "MAE Score: 3.5613901201197797\n",
      "MSE Score: 21.692046601605814\n",
      "\n",
      "\n",
      "R2 Score: 0.7344763681486337\n",
      "MAE Score: 3.5629169999902905\n",
      "MSE Score: 21.704025059892675\n",
      "\n",
      "\n"
     ]
    },
    {
     "name": "stderr",
     "output_type": "stream",
     "text": [
      "c:\\Users\\Lenovo\\AppData\\Local\\Programs\\Python\\Python310\\lib\\site-packages\\sklearn\\linear_model\\_ridge.py:200: LinAlgWarning: Ill-conditioned matrix (rcond=4.77421e-22): result may not be accurate.\n",
      "  return linalg.solve(A, Xy, assume_a=\"pos\", overwrite_a=True).T\n",
      "c:\\Users\\Lenovo\\AppData\\Local\\Programs\\Python\\Python310\\lib\\site-packages\\sklearn\\linear_model\\_ridge.py:200: LinAlgWarning: Ill-conditioned matrix (rcond=9.54842e-22): result may not be accurate.\n",
      "  return linalg.solve(A, Xy, assume_a=\"pos\", overwrite_a=True).T\n",
      "c:\\Users\\Lenovo\\AppData\\Local\\Programs\\Python\\Python310\\lib\\site-packages\\sklearn\\linear_model\\_ridge.py:200: LinAlgWarning: Ill-conditioned matrix (rcond=1.43226e-21): result may not be accurate.\n",
      "  return linalg.solve(A, Xy, assume_a=\"pos\", overwrite_a=True).T\n",
      "c:\\Users\\Lenovo\\AppData\\Local\\Programs\\Python\\Python310\\lib\\site-packages\\sklearn\\linear_model\\_ridge.py:200: LinAlgWarning: Ill-conditioned matrix (rcond=1.90968e-21): result may not be accurate.\n",
      "  return linalg.solve(A, Xy, assume_a=\"pos\", overwrite_a=True).T\n",
      "c:\\Users\\Lenovo\\AppData\\Local\\Programs\\Python\\Python310\\lib\\site-packages\\sklearn\\linear_model\\_ridge.py:200: LinAlgWarning: Ill-conditioned matrix (rcond=2.38711e-21): result may not be accurate.\n",
      "  return linalg.solve(A, Xy, assume_a=\"pos\", overwrite_a=True).T\n",
      "c:\\Users\\Lenovo\\AppData\\Local\\Programs\\Python\\Python310\\lib\\site-packages\\sklearn\\linear_model\\_ridge.py:200: LinAlgWarning: Ill-conditioned matrix (rcond=2.86453e-21): result may not be accurate.\n",
      "  return linalg.solve(A, Xy, assume_a=\"pos\", overwrite_a=True).T\n",
      "c:\\Users\\Lenovo\\AppData\\Local\\Programs\\Python\\Python310\\lib\\site-packages\\sklearn\\linear_model\\_ridge.py:200: LinAlgWarning: Ill-conditioned matrix (rcond=3.34195e-21): result may not be accurate.\n",
      "  return linalg.solve(A, Xy, assume_a=\"pos\", overwrite_a=True).T\n",
      "c:\\Users\\Lenovo\\AppData\\Local\\Programs\\Python\\Python310\\lib\\site-packages\\sklearn\\linear_model\\_ridge.py:200: LinAlgWarning: Ill-conditioned matrix (rcond=3.81937e-21): result may not be accurate.\n",
      "  return linalg.solve(A, Xy, assume_a=\"pos\", overwrite_a=True).T\n",
      "c:\\Users\\Lenovo\\AppData\\Local\\Programs\\Python\\Python310\\lib\\site-packages\\sklearn\\linear_model\\_ridge.py:200: LinAlgWarning: Ill-conditioned matrix (rcond=4.29679e-21): result may not be accurate.\n",
      "  return linalg.solve(A, Xy, assume_a=\"pos\", overwrite_a=True).T\n"
     ]
    }
   ],
   "source": [
    "for alpha in range(1, 10):\n",
    "    model = Ridge(alpha=alpha)\n",
    "    model.fit(X_train, y_train)\n",
    "    transformed_X_val = X_val.copy()\n",
    "    transformed_X_val[transformed] = poly.transform(X_val[polynomial_features])\n",
    "    y_pred = model.predict(transformed_X_val)\n",
    "    evaluate(y_val, y_pred)\n",
    "    print('\\n')"
   ]
  },
  {
   "cell_type": "code",
   "execution_count": 128,
   "metadata": {},
   "outputs": [
    {
     "ename": "TypeError",
     "evalue": "evaluate() missing 2 required positional arguments: 'y_true' and 'y_pred'",
     "output_type": "error",
     "traceback": [
      "\u001b[1;31m---------------------------------------------------------------------------\u001b[0m",
      "\u001b[1;31mTypeError\u001b[0m                                 Traceback (most recent call last)",
      "Cell \u001b[1;32mIn[128], line 1\u001b[0m\n\u001b[1;32m----> 1\u001b[0m \u001b[43mevaluate\u001b[49m\u001b[43m(\u001b[49m\u001b[43m)\u001b[49m\n",
      "\u001b[1;31mTypeError\u001b[0m: evaluate() missing 2 required positional arguments: 'y_true' and 'y_pred'"
     ]
    }
   ],
   "source": []
  }
 ],
 "metadata": {
  "kernelspec": {
   "display_name": "Python 3",
   "language": "python",
   "name": "python3"
  },
  "language_info": {
   "codemirror_mode": {
    "name": "ipython",
    "version": 3
   },
   "file_extension": ".py",
   "mimetype": "text/x-python",
   "name": "python",
   "nbconvert_exporter": "python",
   "pygments_lexer": "ipython3",
   "version": "3.10.6"
  }
 },
 "nbformat": 4,
 "nbformat_minor": 2
}
