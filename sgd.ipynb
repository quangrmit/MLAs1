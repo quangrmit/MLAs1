{
 "cells": [
  {
   "cell_type": "code",
   "execution_count": 3,
   "metadata": {},
   "outputs": [],
   "source": [
    "import numpy as np\n",
    "import pandas as pd\n",
    "import matplotlib.pyplot as plt\n",
    "import seaborn as sns\n",
    "from sklearn.model_selection import train_test_split, TimeSeriesSplit\n",
    "from sklearn.linear_model import LinearRegression, SGDRegressor"
   ]
  },
  {
   "cell_type": "code",
   "execution_count": 2,
   "metadata": {},
   "outputs": [],
   "source": [
    "df = pd.read_csv('./dataset/dataset/train.csv')\n",
    "target = \"TARGET_LifeExpectancy\""
   ]
  },
  {
   "cell_type": "markdown",
   "metadata": {},
   "source": [
    "## Time series split"
   ]
  },
  {
   "cell_type": "code",
   "execution_count": 8,
   "metadata": {},
   "outputs": [
    {
     "data": {
      "text/plain": [
       "<generator object TimeSeriesSplit.split at 0x000002489569A1F0>"
      ]
     },
     "execution_count": 8,
     "metadata": {},
     "output_type": "execute_result"
    }
   ],
   "source": []
  },
  {
   "cell_type": "code",
   "execution_count": 4,
   "metadata": {},
   "outputs": [
    {
     "name": "stdout",
     "output_type": "stream",
     "text": [
      "1161\n",
      "516\n",
      "394\n"
     ]
    }
   ],
   "source": [
    "df_train = df.loc[df['Year'] < 2011]\n",
    "df_val = df.loc[(df['Year'] < 2015) &( df['Year'] >= 2011)]\n",
    "df_test = df.loc[df['Year'] >= 2015]\n",
    "\n",
    "print(len(df_train))\n",
    "print(len(df_val))\n",
    "print(len(df_test))\n",
    "\n",
    "X_train, y_train = df_train.drop(columns=[target]).to_numpy(), df_train[target].to_numpy()\n",
    "X_val, y_val = df_val.drop(columns=[target]).to_numpy(), df_val[target].to_numpy()\n",
    "X_test, y_test = df_test.drop(columns=[target]).to_numpy(), df_test[target].to_numpy()"
   ]
  },
  {
   "cell_type": "code",
   "execution_count": 32,
   "metadata": {},
   "outputs": [],
   "source": [
    "sgd = SGDRegressor(penalty=None, learning_rate='optimal', alpha=5, loss=,)\n",
    "sgd.fit(X_train, y_train)\n",
    "y_pred = sgd.predict(X_val)"
   ]
  },
  {
   "cell_type": "code",
   "execution_count": 33,
   "metadata": {},
   "outputs": [
    {
     "name": "stdout",
     "output_type": "stream",
     "text": [
      "R2 Score: -1.7630105694614796e+16\n",
      "MAE Score: 371476663.1213397\n",
      "MSE Score: 1.3618954444435796e+18\n"
     ]
    }
   ],
   "source": [
    "from sklearn.metrics import r2_score, mean_absolute_error, mean_squared_error\n",
    "# Calculate r2 score\n",
    "r2_s = r2_score(y_val, y_pred=y_pred)\n",
    "mae = mean_absolute_error(y_val, y_pred)\n",
    "mse = mean_squared_error(y_val, y_pred)\n",
    "\n",
    "print(\"R2 Score: \" + str(r2_s))\n",
    "print(\"MAE Score: \" + str(mae))\n",
    "print(\"MSE Score: \" + str(mse))"
   ]
  },
  {
   "cell_type": "code",
   "execution_count": null,
   "metadata": {},
   "outputs": [],
   "source": []
  }
 ],
 "metadata": {
  "kernelspec": {
   "display_name": "Python 3",
   "language": "python",
   "name": "python3"
  },
  "language_info": {
   "codemirror_mode": {
    "name": "ipython",
    "version": 3
   },
   "file_extension": ".py",
   "mimetype": "text/x-python",
   "name": "python",
   "nbconvert_exporter": "python",
   "pygments_lexer": "ipython3",
   "version": "3.10.6"
  }
 },
 "nbformat": 4,
 "nbformat_minor": 2
}
